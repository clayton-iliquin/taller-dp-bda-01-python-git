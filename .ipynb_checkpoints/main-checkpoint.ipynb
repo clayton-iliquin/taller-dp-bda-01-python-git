{
 "cells": [
  {
   "cell_type": "markdown",
   "metadata": {},
   "source": [
    "# main.ipynb"
   ]
  },
  {
   "cell_type": "markdown",
   "metadata": {},
   "source": [
    "## modules"
   ]
  },
  {
   "cell_type": "markdown",
   "metadata": {},
   "source": [
    "### common"
   ]
  },
  {
   "cell_type": "code",
   "execution_count": 1,
   "metadata": {},
   "outputs": [],
   "source": [
    "import os\n",
    "import shutil\n",
    "import json\n",
    "from uuid import uuid4 # nos servirá para darle un códgio único para cada iteración del notebook\n",
    "from pathlib import Path # para crear rutas de navegación."
   ]
  },
  {
   "cell_type": "markdown",
   "metadata": {},
   "source": [
    "### requirements"
   ]
  },
  {
   "cell_type": "code",
   "execution_count": 2,
   "metadata": {},
   "outputs": [],
   "source": [
    "import requests # contacto con APIs\n",
    "import pendulum # para el tipo de datos datatime y más funciones con fechas\n",
    "import pandas as pd\n",
    "import fire"
   ]
  },
  {
   "cell_type": "markdown",
   "metadata": {},
   "source": [
    "## 1. pendulum"
   ]
  },
  {
   "cell_type": "code",
   "execution_count": 8,
   "metadata": {},
   "outputs": [],
   "source": [
    "# > variables\n",
    "region_city = 'America/Lima'\n",
    "#tambien se puede usar region_city :str = 'america/lima' pero es solo para definir el datos cómo cadena"
   ]
  },
  {
   "cell_type": "code",
   "execution_count": 10,
   "metadata": {},
   "outputs": [
    {
     "name": "stdout",
     "output_type": "stream",
     "text": [
      "2022-09-07 --- America/Lima\n"
     ]
    }
   ],
   "source": [
    "c_date = pendulum.now(region_city).to_date_string()\n",
    "#Pendulumn es una librería que sirve para manejar datos del tipo datetime en python\n",
    "\n",
    "print(c_date, '---', rc)"
   ]
  },
  {
   "cell_type": "markdown",
   "metadata": {},
   "source": [
    "## 2. requests"
   ]
  },
  {
   "cell_type": "code",
   "execution_count": 5,
   "metadata": {},
   "outputs": [],
   "source": [
    "# > variables\n",
    "serie = 'PM04902AA'\n",
    "api_url = f'https://estadisticas.bcrp.gob.pe/estadisticas/series/api/{serie}/json/2020/2022/'\n",
    "headers = {'Content-Type': 'application/json'} # el header es necesario para conectarse."
   ]
  },
  {
   "cell_type": "code",
   "execution_count": 15,
   "metadata": {},
   "outputs": [],
   "source": [
    "# > request + try-except\n",
    "try:\n",
    "    response = requests.get(url=api_url, headers=headers, timeout=60) # pedido a API, este nos devolverá un código(200 =bien)\n",
    "    response.encoding = 'utf-8'# Aclaramos el tipo de enconding\n",
    "    api_data = json.loads(response.text) # para visualizar lo que estamos pidiendo en formato json\n",
    "except Exception as e:\n",
    "   print('[INFO] something went wrong...')\n",
    "   raise\n",
    "#"
   ]
  },
  {
   "cell_type": "code",
   "execution_count": 19,
   "metadata": {},
   "outputs": [
    {
     "data": {
      "text/plain": [
       "{'config': {'title': 'Ingreso nacional disponible (millones S/ 2007)',\n",
       "  'series': [{'name': 'Ingreso nacional disponible (millones S/ 2007) - Renta de Factores',\n",
       "    'dec': '0'}]},\n",
       " 'periods': [{'name': '2020', 'values': ['-14748.8775165815']},\n",
       "  {'name': '2021', 'values': ['-46045.7306272063']}]}"
      ]
     },
     "execution_count": 19,
     "metadata": {},
     "output_type": "execute_result"
    }
   ],
   "source": [
    "api_data"
   ]
  },
  {
   "cell_type": "code",
   "execution_count": 18,
   "metadata": {},
   "outputs": [
    {
     "name": "stdout",
     "output_type": "stream",
     "text": [
      "{\n",
      "  \"config\": {\n",
      "    \"title\": \"Ingreso nacional disponible (millones S/ 2007)\",\n",
      "    \"series\": [\n",
      "      {\n",
      "        \"name\": \"Ingreso nacional disponible (millones S/ 2007) - Renta de Factores\",\n",
      "        \"dec\": \"0\"\n",
      "      }\n",
      "    ]\n",
      "  },\n",
      "  \"periods\": [\n",
      "    {\n",
      "      \"name\": \"2020\",\n",
      "      \"values\": [\n",
      "        \"-14748.8775165815\"\n",
      "      ]\n",
      "    },\n",
      "    {\n",
      "      \"name\": \"2021\",\n",
      "      \"values\": [\n",
      "        \"-46045.7306272063\"\n",
      "      ]\n",
      "    }\n",
      "  ]\n",
      "}\n"
     ]
    }
   ],
   "source": [
    "print(json.dumps(api_data, indent=2)) # para mejor formateo de cómo se ve el JSON"
   ]
  },
  {
   "cell_type": "markdown",
   "metadata": {},
   "source": [
    "## 3. pandas: dataframes"
   ]
  },
  {
   "cell_type": "code",
   "execution_count": 29,
   "metadata": {},
   "outputs": [
    {
     "data": {
      "text/html": [
       "<div>\n",
       "<style scoped>\n",
       "    .dataframe tbody tr th:only-of-type {\n",
       "        vertical-align: middle;\n",
       "    }\n",
       "\n",
       "    .dataframe tbody tr th {\n",
       "        vertical-align: top;\n",
       "    }\n",
       "\n",
       "    .dataframe thead th {\n",
       "        text-align: right;\n",
       "    }\n",
       "</style>\n",
       "<table border=\"1\" class=\"dataframe\">\n",
       "  <thead>\n",
       "    <tr style=\"text-align: right;\">\n",
       "      <th></th>\n",
       "      <th>name</th>\n",
       "      <th>values</th>\n",
       "    </tr>\n",
       "  </thead>\n",
       "  <tbody>\n",
       "    <tr>\n",
       "      <th>0</th>\n",
       "      <td>2020</td>\n",
       "      <td>[-14748.8775165815]</td>\n",
       "    </tr>\n",
       "    <tr>\n",
       "      <th>1</th>\n",
       "      <td>2021</td>\n",
       "      <td>[-46045.7306272063]</td>\n",
       "    </tr>\n",
       "  </tbody>\n",
       "</table>\n",
       "</div>"
      ],
      "text/plain": [
       "   name               values\n",
       "0  2020  [-14748.8775165815]\n",
       "1  2021  [-46045.7306272063]"
      ]
     },
     "execution_count": 29,
     "metadata": {},
     "output_type": "execute_result"
    }
   ],
   "source": [
    "# > variables\n",
    "record_path = 'periods'\n",
    "\n",
    "# > pandas from json\n",
    "df = pd.json_normalize(api_data, record_path=record_path) # leemos el dataframe usando el parte \"periods\"\n",
    "\n",
    "df.head()"
   ]
  },
  {
   "cell_type": "code",
   "execution_count": 21,
   "metadata": {},
   "outputs": [
    {
     "data": {
      "text/plain": [
       "{'name': 'YEAR', 'values': 'PM04902AA'}"
      ]
     },
     "execution_count": 21,
     "metadata": {},
     "output_type": "execute_result"
    }
   ],
   "source": [
    "# > variables , para cambiar los nombres del data frame\n",
    "\n",
    "columnas = {'name': 'YEAR', 'values': serie.upper()}\n",
    "columnas\n"
   ]
  },
  {
   "cell_type": "code",
   "execution_count": 30,
   "metadata": {},
   "outputs": [
    {
     "data": {
      "text/html": [
       "<div>\n",
       "<style scoped>\n",
       "    .dataframe tbody tr th:only-of-type {\n",
       "        vertical-align: middle;\n",
       "    }\n",
       "\n",
       "    .dataframe tbody tr th {\n",
       "        vertical-align: top;\n",
       "    }\n",
       "\n",
       "    .dataframe thead th {\n",
       "        text-align: right;\n",
       "    }\n",
       "</style>\n",
       "<table border=\"1\" class=\"dataframe\">\n",
       "  <thead>\n",
       "    <tr style=\"text-align: right;\">\n",
       "      <th></th>\n",
       "      <th>YEAR</th>\n",
       "      <th>PM04902AA</th>\n",
       "    </tr>\n",
       "  </thead>\n",
       "  <tbody>\n",
       "    <tr>\n",
       "      <th>0</th>\n",
       "      <td>2020</td>\n",
       "      <td>[-14748.8775165815]</td>\n",
       "    </tr>\n",
       "    <tr>\n",
       "      <th>1</th>\n",
       "      <td>2021</td>\n",
       "      <td>[-46045.7306272063]</td>\n",
       "    </tr>\n",
       "  </tbody>\n",
       "</table>\n",
       "</div>"
      ],
      "text/plain": [
       "   YEAR            PM04902AA\n",
       "0  2020  [-14748.8775165815]\n",
       "1  2021  [-46045.7306272063]"
      ]
     },
     "execution_count": 30,
     "metadata": {},
     "output_type": "execute_result"
    }
   ],
   "source": [
    "# > pandas rename column\n",
    "df = df.rename(columns=columnas)\n",
    "\n",
    "df.head()"
   ]
  },
  {
   "cell_type": "code",
   "execution_count": 31,
   "metadata": {},
   "outputs": [
    {
     "data": {
      "text/html": [
       "<div>\n",
       "<style scoped>\n",
       "    .dataframe tbody tr th:only-of-type {\n",
       "        vertical-align: middle;\n",
       "    }\n",
       "\n",
       "    .dataframe tbody tr th {\n",
       "        vertical-align: top;\n",
       "    }\n",
       "\n",
       "    .dataframe thead th {\n",
       "        text-align: right;\n",
       "    }\n",
       "</style>\n",
       "<table border=\"1\" class=\"dataframe\">\n",
       "  <thead>\n",
       "    <tr style=\"text-align: right;\">\n",
       "      <th></th>\n",
       "      <th>YEAR</th>\n",
       "      <th>PM04902AA</th>\n",
       "    </tr>\n",
       "  </thead>\n",
       "  <tbody>\n",
       "    <tr>\n",
       "      <th>0</th>\n",
       "      <td>2020</td>\n",
       "      <td>-14748.877517</td>\n",
       "    </tr>\n",
       "    <tr>\n",
       "      <th>1</th>\n",
       "      <td>2021</td>\n",
       "      <td>-46045.730627</td>\n",
       "    </tr>\n",
       "  </tbody>\n",
       "</table>\n",
       "</div>"
      ],
      "text/plain": [
       "   YEAR     PM04902AA\n",
       "0  2020 -14748.877517\n",
       "1  2021 -46045.730627"
      ]
     },
     "execution_count": 31,
     "metadata": {},
     "output_type": "execute_result"
    }
   ],
   "source": [
    "# > pandas format\n",
    "df[serie] = df[serie].str[0].astype('float') # el valor que se nos muestra en la columna PM04902AA es una lista\n",
    "\n",
    "# Así que hacemos este código para sacarlo de la lista y ponerlo cómo numero decimal\n",
    "\n",
    "df.head()"
   ]
  },
  {
   "cell_type": "markdown",
   "metadata": {},
   "source": [
    "## 4. pandas: exporting data"
   ]
  },
  {
   "cell_type": "code",
   "execution_count": null,
   "metadata": {
    "collapsed": true
   },
   "outputs": [],
   "source": []
  },
  {
   "cell_type": "code",
   "execution_count": null,
   "metadata": {},
   "outputs": [],
   "source": [
    "# > variables\n",
    "curr_date = c_date # fecha generada más arriba\n",
    "exec_uuid = str(uuid4()) # identificador único\n",
    "s = serie  # que insertamos para el pedido a API 'PM04902AA'\n",
    "\n",
    "save_path = f'./data/current/{curr_date}/{exec_uuid}/{s}.csv'\n",
    "\n",
    "print(save_path)"
   ]
  },
  {
   "cell_type": "code",
   "execution_count": null,
   "metadata": {},
   "outputs": [],
   "source": [
    "# > split save path\n",
    "save_folder = '/'.join(save_path.split('/')[:-1])\n",
    "\n",
    "print(save_folder)"
   ]
  },
  {
   "cell_type": "code",
   "execution_count": null,
   "metadata": {},
   "outputs": [],
   "source": [
    "# > make save directory if not exists\n",
    "Path(save_folder).mkdir(parents=True, exist_ok=True)"
   ]
  },
  {
   "cell_type": "code",
   "execution_count": null,
   "metadata": {},
   "outputs": [],
   "source": [
    "# > export data from dataframe to csv\n",
    "dfc = df.copy(deep=True)\n",
    "dfc.to_csv(save_path, sep=';', encoding='iso-8859-1', index=False)"
   ]
  },
  {
   "cell_type": "markdown",
   "metadata": {},
   "source": [
    "## 5. main scenario"
   ]
  },
  {
   "cell_type": "markdown",
   "metadata": {},
   "source": [
    "### 5.1. multiple solicitudes"
   ]
  },
  {
   "cell_type": "code",
   "execution_count": null,
   "metadata": {},
   "outputs": [],
   "source": [
    "# > fixed\n",
    "series = ['PM04901AA', 'PM04902AA', 'PM04903AA', 'PM04904AA', 'PM04905AA', 'PM04906AA', 'PM04907AA']\n",
    "exec_uuid = str(uuid4())\n",
    "\n",
    "for serie in series:\n",
    "    # > variables\n",
    "    api_url = f'https://estadisticas.bcrp.gob.pe/estadisticas/series/api/{serie}/json/2020/2022/'\n",
    "    headers = {'Content-Type': 'application/json'}\n",
    "    \n",
    "    # > request + try-except\n",
    "    try:\n",
    "        response = requests.get(url=api_url, headers=headers, timeout=60)\n",
    "        response.encoding = 'utf-8'\n",
    "        api_data = json.loads(response.text)\n",
    "    except Exception as e:\n",
    "        print('[INFO] something went wrong...')\n",
    "        raise\n",
    "    \n",
    "    # > variables\n",
    "    record_path = 'periods'\n",
    "    columnas = {'name': 'YEAR', 'values': serie.upper()}\n",
    "    \n",
    "    # > pandas from json\n",
    "    df = pd.json_normalize(api_data, record_path=record_path)\n",
    "    df = df.rename(columns=columnas)\n",
    "    df[serie] = df[serie].str[0].astype('float')\n",
    "    \n",
    "    # > variables\n",
    "    curr_date = c_date\n",
    "    s = serie\n",
    "    save_path = f'./data/current/{curr_date}/{exec_uuid}/{s}.csv'\n",
    "    \n",
    "    # > split save path\n",
    "    save_folder = '/'.join(save_path.split('/')[:-1])\n",
    "    \n",
    "    # > make save directory if not exists\n",
    "    Path(save_folder).mkdir(parents=True, exist_ok=True)\n",
    "    \n",
    "    # > export data from dataframe to csv\n",
    "    dfc = df.copy(deep=True)\n",
    "    dfc.to_csv(save_path, sep=';', encoding='iso-8859-1', index=False)"
   ]
  },
  {
   "cell_type": "markdown",
   "metadata": {},
   "source": [
    "### 5.2. dataframe auxiliar"
   ]
  },
  {
   "cell_type": "code",
   "execution_count": null,
   "metadata": {},
   "outputs": [],
   "source": [
    "# > variables\n",
    "curr_date = c_date ; year = curr_date.split('-')[0]\n",
    "read_path = '/'.join(save_path.split('/')[:-1])"
   ]
  },
  {
   "cell_type": "code",
   "execution_count": null,
   "metadata": {},
   "outputs": [],
   "source": [
    "# > dataframe dummy\n",
    "tdf = pd.DataFrame({'YEAR': range(1940, int(year)+1), 'LOAD_DATE': curr_date})\n",
    "tdf = tdf.set_index('YEAR')\n",
    "\n",
    "tdf.head()"
   ]
  },
  {
   "cell_type": "code",
   "execution_count": null,
   "metadata": {},
   "outputs": [],
   "source": [
    "# > elementos a juntar\n",
    "files = os.listdir(read_path)\n",
    "for f in files:\n",
    "    print(f)"
   ]
  },
  {
   "cell_type": "code",
   "execution_count": null,
   "metadata": {},
   "outputs": [],
   "source": [
    "# > complete table\n",
    "files = os.listdir(read_path)\n",
    "for f in files:\n",
    "    df = pd.read_csv(f'{read_path}/{f}', sep=';', encoding='iso-8859-1')\n",
    "    df = df.set_index('YEAR')\n",
    "    tdf = tdf.join(df)"
   ]
  },
  {
   "cell_type": "code",
   "execution_count": null,
   "metadata": {},
   "outputs": [],
   "source": [
    "# > nulos por dummy table\n",
    "print(tdf.isna().sum())\n",
    "tdf.head()"
   ]
  },
  {
   "cell_type": "code",
   "execution_count": null,
   "metadata": {},
   "outputs": [],
   "source": [
    "# > reset index + drop nulos\n",
    "tdf = tdf.reset_index()\n",
    "tdf = tdf.dropna(subset=tdf.columns[2:])"
   ]
  },
  {
   "cell_type": "code",
   "execution_count": null,
   "metadata": {},
   "outputs": [],
   "source": [
    "# > output\n",
    "print(tdf.isna().sum())\n",
    "tdf.head()"
   ]
  },
  {
   "cell_type": "markdown",
   "metadata": {},
   "source": [
    "### 5.3. exportar datos"
   ]
  },
  {
   "cell_type": "code",
   "execution_count": null,
   "metadata": {},
   "outputs": [],
   "source": [
    "# > variables\n",
    "export_path = f'./data/output/{curr_date}/output_{exec_uuid}.csv'\n",
    "save_folder = '/'.join(export_path.split('/')[:-1])\n",
    "sep = '|'\n",
    "encoding='iso-8859-1'"
   ]
  },
  {
   "cell_type": "code",
   "execution_count": null,
   "metadata": {},
   "outputs": [],
   "source": [
    "# > export full table\n",
    "Path(save_folder).mkdir(parents=True, exist_ok=True)\n",
    "df.to_csv(export_path, sep=sep, encoding=encoding, index=False)"
   ]
  },
  {
   "cell_type": "code",
   "execution_count": null,
   "metadata": {},
   "outputs": [],
   "source": [
    "# > move current to historic\n",
    "current_path = read_path\n",
    "historic_path = read_path.replace('current', 'historic')\n",
    "shutil.move(current_path, historic_path)"
   ]
  },
  {
   "cell_type": "code",
   "execution_count": null,
   "metadata": {},
   "outputs": [],
   "source": []
  }
 ],
 "metadata": {
  "interpreter": {
   "hash": "0d24f6c4d3e56b3cfda2eb0216e9cf75edcc90598732a5fefacbf5cbcdb25b14"
  },
  "kernelspec": {
   "display_name": "Python 3",
   "language": "python",
   "name": "python3"
  },
  "language_info": {
   "codemirror_mode": {
    "name": "ipython",
    "version": 3
   },
   "file_extension": ".py",
   "mimetype": "text/x-python",
   "name": "python",
   "nbconvert_exporter": "python",
   "pygments_lexer": "ipython3",
   "version": "3.9.5"
  }
 },
 "nbformat": 4,
 "nbformat_minor": 2
}
